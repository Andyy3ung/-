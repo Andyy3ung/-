{
 "cells": [
  {
   "cell_type": "code",
   "execution_count": 400,
   "metadata": {},
   "outputs": [],
   "source": [
    "%matplotlib inline\n",
    "import pandas as pd\n",
    "import numpy as np\n",
    "from sklearn.datasets import load_breast_cancer\n",
    "from sklearn.model_selection import train_test_split\n",
    "import matplotlib.pyplot as plt"
   ]
  },
  {
   "cell_type": "code",
   "execution_count": 401,
   "metadata": {},
   "outputs": [],
   "source": [
    "# load data\n",
    "breast_cancer = load_breast_cancer()\n",
    "df = pd.DataFrame(breast_cancer.data, columns=breast_cancer.feature_names)\n",
    "df['label'] = breast_cancer.target\n",
    "# df.head(10)\n",
    "# df.columns#查看所有特征names"
   ]
  },
  {
   "cell_type": "code",
   "execution_count": 402,
   "metadata": {},
   "outputs": [],
   "source": [
    "aonum,aznum=df.label.value_counts()#全部样本中1和0的数目"
   ]
  },
  {
   "cell_type": "code",
   "execution_count": 403,
   "metadata": {},
   "outputs": [],
   "source": [
    "s1='mean concavity'\n",
    "s2='mean concave points'\n",
    "df=df[[s1,s2,'label']]#取出特征\n",
    "data = np.array(df)#用于分割数据\n",
    "data_sorted=np.array(df.sort_values(axis=0,ascending=True,by='label'))#用于画出不同类的点"
   ]
  },
  {
   "cell_type": "code",
   "execution_count": 404,
   "metadata": {},
   "outputs": [
    {
     "data": {
      "text/plain": [
       "<matplotlib.legend.Legend at 0x1a27865b50>"
      ]
     },
     "execution_count": 404,
     "metadata": {},
     "output_type": "execute_result"
    },
    {
     "data": {
      "image/png": "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\n",
      "text/plain": [
       "<Figure size 432x288 with 1 Axes>"
      ]
     },
     "metadata": {
      "needs_background": "light"
     },
     "output_type": "display_data"
    }
   ],
   "source": [
    "test_num=int(0.8*len(df))\n",
    "plt.scatter(data_sorted[:aznum,0], data_sorted[:aznum,1], label='0')\n",
    "plt.scatter(data_sorted[aznum:,0], data_sorted[aznum:,1], label='1')\n",
    "plt.xlabel(s1)\n",
    "plt.ylabel(s2)\n",
    "plt.legend()\n",
    "#简单查看该特性是否线性可分"
   ]
  },
  {
   "cell_type": "code",
   "execution_count": 405,
   "metadata": {},
   "outputs": [
    {
     "name": "stdout",
     "output_type": "stream",
     "text": [
      "249 149\n"
     ]
    }
   ],
   "source": [
    "X, y = data[:,:-1], data[:,-1]\n",
    "X_train,X_test,y_train,y_test = train_test_split(X,y,test_size=0.3,random_state=1)#分割数据\n",
    "# print(type(X))\n",
    "# print(X_train[0])\n",
    "# print(y_train[0])\n",
    "train_data=pd.DataFrame(X_train)\n",
    "train_data['label']=y_train#合并分割后的训练数据\n",
    "train_data_sorted=train_data.sort_values(axis=0,ascending=True,by='label')#根据'label'用于画出不同类的点\n",
    "# print(X_train)\n",
    "# print(y_train)\n",
    "onum,znum=train_data.label.value_counts()#训练样本中1和0的数目\n",
    "print(onum,znum)\n",
    "# train_data_sorted[:149]"
   ]
  },
  {
   "cell_type": "code",
   "execution_count": 406,
   "metadata": {},
   "outputs": [],
   "source": [
    "y_train = np.array([1 if i == 1 else -1 for i in y_train])\n",
    "y_test = np.array([1 if i == 1 else -1 for i in y_test])"
   ]
  },
  {
   "cell_type": "markdown",
   "metadata": {},
   "source": [
    "## Perceptron"
   ]
  },
  {
   "cell_type": "code",
   "execution_count": 407,
   "metadata": {},
   "outputs": [],
   "source": [
    "# 数据线性可分，二分类数据\n",
    "# 此处为一元一次线性方程\n",
    "class Model:\n",
    "    def __init__(self):\n",
    "        self.w = np.ones(len(data[0]) - 1, dtype=np.float32)  #初始化w\n",
    "        self.b = 0  #初始化b\n",
    "        self.l_rate = 0.1  #设置学习率\n",
    "        # self.data = data\n",
    "\n",
    "    def sign(self, x, w, b):\n",
    "        y = np.dot(x, w) + b\n",
    "        return y\n",
    "\n",
    "    # 随机梯度下降法\n",
    "    def fit(self, X_train, y_train):\n",
    "        is_wrong = False\n",
    "        interate_num = 0\n",
    "        while not is_wrong:\n",
    "            wrong_count = 0\n",
    "            for idx in range(len(X_train)):\n",
    "                X = X_train[idx]\n",
    "                y = y_train[idx]\n",
    "                if y * self.sign(X, self.w, self.b) <= 0:\n",
    "                    self.w = self.w + self.l_rate * np.dot(y, X) #梯度下降进行参数学习\n",
    "                    self.b = self.b + self.l_rate * y #梯度下降进行参数学习\n",
    "                    wrong_count += 1\n",
    "            if wrong_count == 0:\n",
    "                is_wrong = True #直到所有的样本分类正确，才更改is_wrong的值\n",
    "            interate_num +=1\n",
    "            if interate_num>=10000:#迭代次数上限10000\n",
    "                break\n",
    "        print(\"Finish training! \",\"The number of iteration: \",interate_num)\n",
    "\n",
    "    def score(self, X_test, y_test):\n",
    "        wrong_num=0\n",
    "        for idx in range(len(X_test)):\n",
    "                X = X_test[idx]\n",
    "                y = y_test[idx]\n",
    "                if y*self.sign(X, self.w, self.b) >= 0:#点被感知线正确分类\n",
    "                    pass\n",
    "                else:\n",
    "                    wrong_num+=1#计数误分类点\n",
    "        acc=(1-(wrong_num/len(X_test)))*100#计算正确率\n",
    "        print(\"Wrong sorting points: \",wrong_num)\n",
    "        print(\"Accuracy：\",acc,\"%\")"
   ]
  },
  {
   "cell_type": "code",
   "execution_count": 408,
   "metadata": {},
   "outputs": [
    {
     "name": "stdout",
     "output_type": "stream",
     "text": [
      "Finish training!  The number of iteration:  10000\n",
      "Wrong sorting points:  25\n",
      "Accuracy： 85.38011695906434 %\n"
     ]
    }
   ],
   "source": [
    "perceptron = Model()\n",
    "perceptron.fit(X_train, y_train)\n",
    "perceptron.score(X_test, y_test)"
   ]
  },
  {
   "cell_type": "code",
   "execution_count": 409,
   "metadata": {},
   "outputs": [
    {
     "data": {
      "text/plain": [
       "<matplotlib.legend.Legend at 0x1a1d4e7b10>"
      ]
     },
     "execution_count": 409,
     "metadata": {},
     "output_type": "execute_result"
    },
    {
     "data": {
      "image/png": "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\n",
      "text/plain": [
       "<Figure size 432x288 with 1 Axes>"
      ]
     },
     "metadata": {
      "needs_background": "light"
     },
     "output_type": "display_data"
    }
   ],
   "source": [
    "x_points = np.linspace(0, 0.6, 20)\n",
    "y_ = -(perceptron.w[0] * x_points + perceptron.b) / perceptron.w[1]\n",
    "plt.plot(x_points, y_)\n",
    "plt.plot(train_data_sorted[:znum][0], train_data_sorted[:znum][1], 'bo', color='blue', label='0')\n",
    "plt.plot(train_data_sorted[znum:][0], train_data_sorted[znum:][1], 'bo', color='orange', label='1')\n",
    "#画出原样本点和感知线\n",
    "plt.xlabel(s1)\n",
    "plt.ylabel(s2)\n",
    "plt.legend()"
   ]
  },
 ],
 "metadata": {
  "kernelspec": {
   "display_name": "Python 3",
   "language": "python",
   "name": "python3"
  },
  "language_info": {
   "codemirror_mode": {
    "name": "ipython",
    "version": 3
   },
   "file_extension": ".py",
   "mimetype": "text/x-python",
   "name": "python",
   "nbconvert_exporter": "python",
   "pygments_lexer": "ipython3",
   "version": "3.7.4"
  }
 },
 "nbformat": 4,
 "nbformat_minor": 2
}
